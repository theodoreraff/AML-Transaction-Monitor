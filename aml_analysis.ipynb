{
 "cells": [
  {
   "cell_type": "code",
   "id": "initial_id",
   "metadata": {
    "collapsed": true,
    "ExecuteTime": {
     "end_time": "2025-07-18T01:41:06.432202Z",
     "start_time": "2025-07-18T01:41:06.430466Z"
    }
   },
   "source": [
    "# ==============================================================================\n",
    "# PORTFOLIO PROJECT: AML ANOMALY DETECTION PROTOTYPE\n",
    "# BY: Theodorus\n",
    "# VERSION: 2.1 (Error fix in report generation)\n",
    "# =============================================================================="
   ],
   "outputs": [],
   "execution_count": 13
  },
  {
   "metadata": {
    "ExecuteTime": {
     "end_time": "2025-07-18T01:41:24.700321Z",
     "start_time": "2025-07-18T01:41:24.698017Z"
    }
   },
   "cell_type": "code",
   "source": [
    "# Please run 'pip install pandas numpy' in your terminal if you haven't already\n",
    "import pandas as pd\n",
    "import numpy as np\n",
    "from datetime import datetime, timedelta\n",
    "import random\n",
    "import os"
   ],
   "id": "ec8a02217d5e5c38",
   "outputs": [],
   "execution_count": 14
  }
 ],
 "metadata": {
  "kernelspec": {
   "display_name": "Python 3",
   "language": "python",
   "name": "python3"
  },
  "language_info": {
   "codemirror_mode": {
    "name": "ipython",
    "version": 2
   },
   "file_extension": ".py",
   "mimetype": "text/x-python",
   "name": "python",
   "nbconvert_exporter": "python",
   "pygments_lexer": "ipython2",
   "version": "2.7.6"
  }
 },
 "nbformat": 4,
 "nbformat_minor": 5
}
