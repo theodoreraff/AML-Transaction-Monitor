{
 "cells": [
  {
   "cell_type": "code",
   "id": "initial_id",
   "metadata": {
    "collapsed": true,
    "ExecuteTime": {
     "end_time": "2025-07-18T01:41:06.432202Z",
     "start_time": "2025-07-18T01:41:06.430466Z"
    }
   },
   "source": [
    "# ==============================================================================\n",
    "# PORTFOLIO PROJECT: AML ANOMALY DETECTION PROTOTYPE\n",
    "# BY: Theodorus\n",
    "# VERSION: 2.1 (Error fix in report generation)\n",
    "# =============================================================================="
   ],
   "outputs": [],
   "execution_count": 13
  },
  {
   "metadata": {
    "ExecuteTime": {
     "end_time": "2025-07-18T01:41:24.700321Z",
     "start_time": "2025-07-18T01:41:24.698017Z"
    }
   },
   "cell_type": "code",
   "source": [
    "# Please run 'pip install pandas numpy' in your terminal if you haven't already\n",
    "import pandas as pd\n",
    "import numpy as np\n",
    "from datetime import datetime, timedelta\n",
    "import random\n",
    "import os"
   ],
   "id": "ec8a02217d5e5c38",
   "outputs": [],
   "execution_count": 14
  },
  {
   "metadata": {
    "ExecuteTime": {
     "end_time": "2025-07-18T01:44:09.729789Z",
     "start_time": "2025-07-18T01:44:09.715502Z"
    }
   },
   "cell_type": "code",
   "source": [
    "# ==============================================================================\n",
    "# MISSION #2: PREPARE THE \"CRIME SCENE DATA\" (GENERATE FICTITIOUS DATA)\n",
    "# ==============================================================================\n",
    "# In this section, we will create a fake transaction dataset and save it to a .csv file\n",
    "# inside the 'data/' directory. This keeps our project organized.\n",
    "\n",
    "print(\"Starting Mission #2: Creating the fictitious transaction dataset...\")\n",
    "\n",
    "def generate_transaction_data(num_records=1000, output_folder='data'):\n",
    "    \"\"\"\n",
    "    Generates fictitious transaction data and saves it to a CSV file.\n",
    "    Intentionally injects anomalous data for detection purposes.\n",
    "    Saves the output to the specified folder.\n",
    "    \"\"\"\n",
    "    # --- Create the data directory if it doesn't exist ---\n",
    "    if not os.path.exists(output_folder):\n",
    "        print(f\"Directory '{output_folder}' not found. Creating it now.\")\n",
    "        os.makedirs(output_folder)\n",
    "\n",
    "    output_path = os.path.join(output_folder, 'transactions.csv')\n",
    "\n",
    "    data = []\n",
    "    user_ids = [f'user_{i}' for i in range(50)]\n",
    "    base_date = datetime.now()\n",
    "\n",
    "    # Generate normal data\n",
    "    for i in range(num_records):\n",
    "        data.append({\n",
    "            'transaction_id': f'txn_{1000+i}',\n",
    "            'user_id': random.choice(user_ids),\n",
    "            'amount': round(random.uniform(10000, 5000000), 2),\n",
    "            'timestamp': base_date - timedelta(days=random.randint(1, 30), hours=random.randint(0, 23)),\n",
    "            'location_country': 'ID'\n",
    "        })\n",
    "\n",
    "    # --- Inject Anomalies ---\n",
    "\n",
    "    # Anomaly 1: High-Frequency Transactions\n",
    "    print(\"Injecting Anomaly #1: High-Frequency Transactions...\")\n",
    "    anomaly_user_1 = 'user_123'\n",
    "    for i in range(6):\n",
    "        data.append({\n",
    "            'transaction_id': f'txn_hf_{i}',\n",
    "            'user_id': anomaly_user_1,\n",
    "            'amount': round(random.uniform(50000, 200000), 2),\n",
    "            'timestamp': base_date - timedelta(minutes=i),\n",
    "            'location_country': 'ID'\n",
    "        })\n",
    "\n",
    "    # Anomaly 2: High-Amount Transaction\n",
    "    print(\"Injecting Anomaly #2: High-Amount Transaction...\")\n",
    "    data.append({\n",
    "        'transaction_id': 'txn_ha_1',\n",
    "        'user_id': 'user_456',\n",
    "        'amount': 150000000.00,\n",
    "        'timestamp': base_date - timedelta(days=2),\n",
    "        'location_country': 'ID'\n",
    "    })\n",
    "\n",
    "    # Anomaly 3: Impossible Travel\n",
    "    print(\"Injecting Anomaly #3: Impossible Travel...\")\n",
    "    anomaly_user_3 = 'user_789'\n",
    "    data.append({\n",
    "        'transaction_id': 'txn_it_1',\n",
    "        'user_id': anomaly_user_3,\n",
    "        'amount': 750000.00,\n",
    "        'timestamp': base_date - timedelta(hours=5),\n",
    "        'location_country': 'ID'\n",
    "    })\n",
    "    data.append({\n",
    "        'transaction_id': 'txn_it_2',\n",
    "        'user_id': anomaly_user_3,\n",
    "        'amount': 1200000.00,\n",
    "        'timestamp': base_date - timedelta(hours=4, minutes=30),\n",
    "        'location_country': 'RU'\n",
    "    })\n",
    "\n",
    "    df = pd.DataFrame(data)\n",
    "    # Save to CSV file inside the 'data' folder\n",
    "    df.to_csv(output_path, index=False)\n",
    "    print(f\"Dataset '{output_path}' created successfully.\")\n",
    "    return df\n",
    "\n",
    "# Run the function to create the data\n",
    "df = generate_transaction_data()\n",
    "print(\"\\n\" + \"=\"*60 + \"\\n\")\n"
   ],
   "id": "7bb8d0487a490274",
   "outputs": [
    {
     "name": "stdout",
     "output_type": "stream",
     "text": [
      "Starting Mission #2: Creating the fictitious transaction dataset...\n",
      "Injecting Anomaly #1: High-Frequency Transactions...\n",
      "Injecting Anomaly #2: High-Amount Transaction...\n",
      "Injecting Anomaly #3: Impossible Travel...\n",
      "Dataset 'data/transactions.csv' created successfully.\n",
      "\n",
      "============================================================\n",
      "\n"
     ]
    }
   ],
   "execution_count": 15
  }
 ],
 "metadata": {
  "kernelspec": {
   "display_name": "Python 3",
   "language": "python",
   "name": "python3"
  },
  "language_info": {
   "codemirror_mode": {
    "name": "ipython",
    "version": 2
   },
   "file_extension": ".py",
   "mimetype": "text/x-python",
   "name": "python",
   "nbconvert_exporter": "python",
   "pygments_lexer": "ipython2",
   "version": "2.7.6"
  }
 },
 "nbformat": 4,
 "nbformat_minor": 5
}
